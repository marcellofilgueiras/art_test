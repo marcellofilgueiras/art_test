{
  "nbformat": 4,
  "nbformat_minor": 0,
  "metadata": {
    "colab": {
      "provenance": []
    },
    "kernelspec": {
      "name": "python3",
      "display_name": "Python 3"
    },
    "language_info": {
      "name": "python"
    }
  },
  "cells": [
    {
      "cell_type": "code",
      "source": [],
      "metadata": {
        "id": "a-lqZ3Dzxf1Q"
      },
      "execution_count": null,
      "outputs": []
    },
    {
      "cell_type": "code",
      "source": [
        " from google.colab import drive\n",
        "\n",
        "# montar o drive pra ter acesso a\n",
        "# arquivos do drive\n",
        "\n",
        "drive.mount('/content/drive')\n",
        "\n",
        "\n"
      ],
      "metadata": {
        "colab": {
          "base_uri": "https://localhost:8080/"
        },
        "id": "NLjw4HluG3PY",
        "outputId": "98d33c19-96bf-4a7d-94bd-7cb768985761"
      },
      "execution_count": null,
      "outputs": [
        {
          "output_type": "stream",
          "name": "stdout",
          "text": [
            "Mounted at /content/drive\n"
          ]
        }
      ]
    },
    {
      "cell_type": "code",
      "execution_count": null,
      "metadata": {
        "colab": {
          "base_uri": "https://localhost:8080/"
        },
        "id": "fCUy6Hr8v4Tj",
        "outputId": "e7607064-8978-4c5e-e354-3cc31e72a413"
      },
      "outputs": [
        {
          "output_type": "stream",
          "name": "stdout",
          "text": [
            "         date        dept  value   beneficiary\n",
            "0  2020-12-04  Tecnologia   16.0    Bitbucket;\n",
            "1  2020-12-04    Jurídico   60.0  LinkSquares;\n",
            "2  2020-12-05  Tecnologia   50.0           AWS\n",
            "         date        dept  value  beneficiary\n",
            "0  2020-12-04  Tecnologia  16.00   Bitbucket;\n",
            "1  2020-12-05  Tecnologia  49.99         AWS;\n",
            "2  2020-12-04    Jurídico  60.00  LinkSquares\n"
          ]
        }
      ],
      "source": [
        "import pandas as pd\n",
        "\n",
        "\n",
        "t1 = pd.read_csv(\"/content/drive/MyDrive/py/data/transactions1.csv\",\n",
        "                 names=['date', 'dept', 'value', 'beneficiary'],\n",
        "                 header=None)\n",
        "t2 = pd.read_csv(\"/content/drive/MyDrive/py/data/transactions2.csv\",\n",
        "                 names=['date', 'dept', 'value', 'beneficiary'],\n",
        "                 header=None)\n",
        "\n",
        "\n",
        "print(t1)\n",
        "print(t2)"
      ]
    },
    {
      "cell_type": "markdown",
      "source": [
        "reconcile_accounts\n",
        "Escreva uma função que faça a conciliação de dois grupos de transações financeiras. Sua função, reconcile_accounts, deve receber duas listas de listas (representando as linhas dos dados financeiros) e deve devolver cópias dessas duas listas de listas com uma nova coluna acrescentada à direita das demais, que designará se a transação pôde ser encontrada (FOUND) na outra lista ou não (MISSING).\n",
        "As listas de listas representarão os dados em quatro colunas tipo string:\n",
        "\n",
        "• Data (em formato yyyy-mm-dd)\n",
        "\n",
        "• Departamento\n",
        "\n",
        "• Valor\n",
        "\n",
        "• Beneficiário\n",
        "\n",
        "Dados o arquivo transactions1.csv :\n",
        "2020-12-04,Tecnologia,16.00,Bitbucket 2020-12-04,Jurídico,60.00,LinkSquares 2020-12-05,Tecnologia,50.00,AWS\n",
        "E o arquivo transactions2.csv :\n",
        "2020-12-04,Tecnologia,16.00,Bitbucket 2020-12-05,Tecnologia,49.99,AWS\n",
        "2020-12-04,Jurídico,60.00,LinkSquares\n",
        "Sua função deve funcionar do seguinte modo:\n",
        "```\n",
        ">>> import csv\n",
        ">>> from pathlib import Path\n",
        ">>> from pprint import pprint\n",
        ">>> transactions1 = list(csv.reader(Path('transactions1.csv').open()))\n",
        ">>> transactions2 = list(csv.reader(Path('transactions2.csv').open()))\n",
        ">>> out1, out2 = reconcile_accounts(transactions1, transactions2)\n",
        ">>> pprint(out1)\n",
        "[['2020-12-04', 'Tecnologia', '16.00', 'Bitbucket', 'FOUND'],\n",
        "['2020-12-04', 'Jurídico', '60.00', 'LinkSquares', 'FOUND'],\n",
        "['2020-12-05', 'Tecnologia', '50.00', 'AWS', 'MISSING']]\n",
        "\n",
        "\n",
        "```"
      ],
      "metadata": {
        "id": "rIgbU7HfwK9F"
      }
    },
    {
      "cell_type": "markdown",
      "source": [
        "Um jeito MUITO SIMPLES, que talvez não fosse o ideal em um problema mais complexo, eu faria algo desse jeito."
      ],
      "metadata": {
        "id": "HvuZ4wKN__Cb"
      }
    },
    {
      "cell_type": "code",
      "source": [
        "def reconcile(t1, t2):\n",
        "    prep = lambda df: df.assign(date=pd.to_datetime(df.date), id=df.index)\n",
        "    t1p, t2p = prep(t1), prep(t2)\n",
        "    m = pd.merge(t1p, t2p, on=['dept','value','beneficiary'])\n",
        "    m = m[(m.date_x - m.date_y).abs().dt.days <= 1]\n",
        "\n",
        "    return (\n",
        "        t1.assign(status=['FOUND' if i in m.id_x else 'MISSING' for i in t1p.id]),\n",
        "        t2.assign(status=['FOUND' if i in m.id_y else 'MISSING' for i in t2p.id])\n",
        "    )\n"
      ],
      "metadata": {
        "id": "lEVoWmzKwPeW"
      },
      "execution_count": null,
      "outputs": []
    },
    {
      "cell_type": "code",
      "source": [
        "reconcile(t1,t2)"
      ],
      "metadata": {
        "colab": {
          "base_uri": "https://localhost:8080/"
        },
        "id": "ApQ1BleWyqdp",
        "outputId": "68942a83-bfb1-4c63-871a-93ce8f161474"
      },
      "execution_count": null,
      "outputs": [
        {
          "output_type": "execute_result",
          "data": {
            "text/plain": [
              "(         date        dept  value   beneficiary   status\n",
              " 0  2020-12-04  Tecnologia   16.0    Bitbucket;    FOUND\n",
              " 1  2020-12-04    Jurídico   60.0  LinkSquares;  MISSING\n",
              " 2  2020-12-05  Tecnologia   50.0           AWS  MISSING,\n",
              "          date        dept  value  beneficiary   status\n",
              " 0  2020-12-04  Tecnologia  16.00   Bitbucket;    FOUND\n",
              " 1  2020-12-05  Tecnologia  49.99         AWS;  MISSING\n",
              " 2  2020-12-04    Jurídico  60.00  LinkSquares  MISSING)"
            ]
          },
          "metadata": {},
          "execution_count": 22
        }
      ]
    },
    {
      "cell_type": "markdown",
      "source": [
        "Assim, seria a função conforme solicitado"
      ],
      "metadata": {
        "id": "5ME0CPTsALju"
      }
    },
    {
      "cell_type": "code",
      "source": [
        "import pandas as pd\n",
        "from datetime import datetime\n",
        "\n",
        "def reconcile_accounts(t1, t2):\n",
        "    # Função de preparação dos dados\n",
        "    def prep(df):\n",
        "        df = df.copy()\n",
        "        df['date'] = pd.to_datetime(df['date'])\n",
        "        df['id'] = df.reset_index().index\n",
        "        df['beneficiary'] = df['beneficiary'].str.rstrip(';')\n",
        "        return df\n",
        "\n",
        "    # Preparar os dataframes\n",
        "    t1p = prep(t1)\n",
        "    t2p = prep(t2)\n",
        "\n",
        "    # Encontrar correspondências válidas\n",
        "    m = pd.merge(t1p, t2p, on=['dept', 'value', 'beneficiary'])\n",
        "    m = m[abs((m['date_x'] - m['date_y']).dt.days) <= 1]\n",
        "\n",
        "    # Atualizar status\n",
        "    result1 = t1p.copy()\n",
        "    result1['status'] = ['FOUND' if x in m['id_x'].values else 'MISSING' for x in t1p['id']]\n",
        "    result1 = result1.drop(columns=['id'])\n",
        "\n",
        "    result2 = t2p.copy()\n",
        "    result2['status'] = ['FOUND' if x in m['id_y'].values else 'MISSING' for x in t2p['id']]\n",
        "    result2 = result2.drop(columns=['id'])\n",
        "\n",
        "    return result1, result2"
      ],
      "metadata": {
        "id": "VFqrNywc1VkN"
      },
      "execution_count": null,
      "outputs": []
    },
    {
      "cell_type": "code",
      "source": [
        "reconcile_accounts(t1,t2)"
      ],
      "metadata": {
        "colab": {
          "base_uri": "https://localhost:8080/"
        },
        "id": "98jcRvtN1iVG",
        "outputId": "74c4f85b-c540-48f3-b65d-d68b5a6c72e4"
      },
      "execution_count": null,
      "outputs": [
        {
          "output_type": "execute_result",
          "data": {
            "text/plain": [
              "(        date        dept  value  beneficiary   status\n",
              " 0 2020-12-04  Tecnologia   16.0    Bitbucket    FOUND\n",
              " 1 2020-12-04    Jurídico   60.0  LinkSquares    FOUND\n",
              " 2 2020-12-05  Tecnologia   50.0          AWS  MISSING,\n",
              "         date        dept  value  beneficiary   status\n",
              " 0 2020-12-04  Tecnologia  16.00    Bitbucket    FOUND\n",
              " 1 2020-12-05  Tecnologia  49.99          AWS  MISSING\n",
              " 2 2020-12-04    Jurídico  60.00  LinkSquares    FOUND)"
            ]
          },
          "metadata": {},
          "execution_count": 28
        }
      ]
    }
  ]
}